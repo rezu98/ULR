{
  "cells": [
    {
      "cell_type": "markdown",
      "metadata": {
        "id": "view-in-github",
        "colab_type": "text"
      },
      "source": [
        "<a href=\"https://colab.research.google.com/github/rezu98/ULR/blob/main/UBS.ipynb\" target=\"_parent\"><img src=\"https://colab.research.google.com/assets/colab-badge.svg\" alt=\"Open In Colab\"/></a>"
      ]
    },
    {
      "cell_type": "code",
      "source": [
        "cd /content"
      ],
      "metadata": {
        "id": "DEIP4-w7z7DD",
        "outputId": "7d70309e-fdcd-42ca-de15-89ca216a19f7",
        "colab": {
          "base_uri": "https://localhost:8080/"
        }
      },
      "execution_count": 306,
      "outputs": [
        {
          "output_type": "stream",
          "name": "stdout",
          "text": [
            "/content\n"
          ]
        }
      ]
    },
    {
      "cell_type": "code",
      "source": [
        "# ubs_factor_replication.py\n",
        "import pandas as pd\n",
        "import numpy as np\n",
        "from pathlib import Path\n",
        "from sklearn.decomposition import FactorAnalysis\n",
        "import matplotlib.pyplot as plt\n",
        "\n",
        "# =========================\n",
        "# 0) 사용자 설정\n",
        "# =========================\n",
        "INPUT_FILE = \"date.xlsx\"     # 입력 엑셀\n",
        "DATE_COL   = \"date\"\n",
        "VAR_COLS   = [\"debt\", \"cons\", \"pir\", \"ptorent\", \"ptonation\"]  # 이미 표준화된 5개 지표\n",
        "\n",
        "# 가중치 산출 옵션\n",
        "WEIGHT_FROM = \"none\"   # \"abs\" (기본) | \"square\"  (|λ| vs λ^2 정규화)\n",
        "SHRINK_TO_EQUAL = True    # True면 동등가중(0.2씩)으로 수렴시키는 shrink 적용\n",
        "SHRINK_RHO = 0.3          # 0.0(무) ~ 1.0(완전원래가중치); 0.3~0.5 권장\n",
        "CAP_DEVIATION = None       # 예: 0.10 이면 각 가중치가 0.2±0.10 범위로 제한; None이면 미적용\n",
        "\n",
        "# 점수 등급 컷오프 (UBS 컨벤션)\n",
        "CUT_LOW      = 0.5\n",
        "CUT_ELEVATED = 1.0\n",
        "CUT_HIGH     = 1.5\n",
        "\n",
        "OUT_XLSX = \"ubs_replicate_output.xlsx\"\n",
        "OUT_CSV  = \"ubs_replicate_scores.csv\"\n",
        "PLOT_PNG = \"ubs_replicate_score.png\""
      ],
      "metadata": {
        "id": "t9GNSfZ__D78"
      },
      "execution_count": 541,
      "outputs": []
    },
    {
      "cell_type": "code",
      "source": [
        "import pandas as pd\n",
        "\n",
        "# 1) 엑셀 읽기 (Sheet1)\n",
        "df = pd.read_excel(\"date_gn.xlsx\", sheet_name=\"Sheet1\")"
      ],
      "metadata": {
        "id": "DC6k0g4JAvrH"
      },
      "execution_count": 542,
      "outputs": []
    },
    {
      "cell_type": "code",
      "source": [
        "# 3) date 파싱: \"YYYY-MM_DD\" → \"YYYY-MM-DD\"로 바꿔서 날짜형으로\n",
        "df[\"date\"] = pd.to_datetime(\n",
        "    df[\"date\"].astype(str).str.replace(\"_\", \"-\", regex=False),\n",
        "    format=\"%Y-%m-%d\",\n",
        "    errors=\"raise\"\n",
        ")\n",
        "\n",
        "# 4) 필요한 컬럼만(있으면) 선택하고 정렬\n",
        "cols = [\"date\", \"debt\", \"cons\", \"pir\", \"ptorent\", \"ptonation\"]\n",
        "df = df[[c for c in cols if c in df.columns]].sort_values(\"date\").reset_index(drop=True)\n",
        "\n",
        "print(df.head())"
      ],
      "metadata": {
        "colab": {
          "base_uri": "https://localhost:8080/"
        },
        "id": "gd9eTFUAAwst",
        "outputId": "3d8ac076-97ed-455f-86ef-0017ff3b71b9"
      },
      "execution_count": 543,
      "outputs": [
        {
          "output_type": "stream",
          "name": "stdout",
          "text": [
            "        date      debt      cons       pir   ptorent  ptonation\n",
            "0 2010-03-01 -1.637965 -1.975443 -0.250783  2.022083  -0.219093\n",
            "1 2010-06-01 -0.776647  1.181024 -0.333046  1.901740  -0.268800\n",
            "2 2010-09-01 -0.984448 -0.332136 -0.333880  1.758708  -0.324765\n",
            "3 2010-12-01 -0.212507  0.826079 -0.360930  1.300229  -0.326555\n",
            "4 2011-03-01 -0.214746 -1.836071 -0.438539  1.108986  -0.439193\n"
          ]
        }
      ]
    },
    {
      "cell_type": "code",
      "source": [
        "\n",
        "# =========================\n",
        "# 2) 입력 표준화 여부 점검(선택)\n",
        "# =========================\n",
        "# 이미 표준화되어 있다고 했으므로 여기서는 분포를 간단히 체크만 (원하면 재표준화 가능)\n",
        "# 재표준화를 원하면 아래 주석 해제:\n",
        "# for c in VAR_COLS:\n",
        "#     mu = df[c].mean(skipna=True); sd = df[c].std(skipna=True)\n",
        "#     if sd > 0:\n",
        "#         df[c] = (df[c] - mu) / sd\n",
        "\n",
        "Z = df[VAR_COLS].copy()\n",
        "mask_valid = ~Z.isna().any(axis=1)\n",
        "Z_valid = Z.loc[mask_valid].values  # n_valid x 5\n",
        "\n",
        "if Z_valid.shape[0] < 20:\n",
        "    raise ValueError(\"유효 표본이 너무 적습니다(행>=20 권장). NaN을 확인하세요.\")"
      ],
      "metadata": {
        "id": "aNyQLjp__kHl"
      },
      "execution_count": 544,
      "outputs": []
    },
    {
      "cell_type": "code",
      "source": [
        "\n",
        "# =========================\n",
        "# 3) 요인분석(1요인)\n",
        "# =========================\n",
        "fa = FactorAnalysis(n_components=1, random_state=0)\n",
        "fa.fit(Z_valid)\n",
        "\n",
        "# sklearn FactorAnalysis: components_.shape = (n_components, n_features)\n",
        "loadings = fa.components_[0].astype(float)  # 길이 5\n",
        "\n",
        "# 부호 정합(위험신호 ↑ 방향): 합이 음수면 뒤집기\n",
        "if loadings.sum() < 0:\n",
        "    loadings = -loadings"
      ],
      "metadata": {
        "id": "5O0s-DLjA6fa"
      },
      "execution_count": 545,
      "outputs": []
    },
    {
      "cell_type": "code",
      "source": [
        "loadings\n",
        "\n",
        "# HD는 전기대비 증감, 건설투자는 수준으로 했을 때 가장 잘 나옴\n",
        "# HD는 전기대비 증감, 건설투자도 전기대비 증감일 경우 나쁘지 않음"
      ],
      "metadata": {
        "id": "sT5wotjLPBIC",
        "outputId": "37a17ee7-cab1-4382-ebe3-5a50aade53db",
        "colab": {
          "base_uri": "https://localhost:8080/"
        }
      },
      "execution_count": 546,
      "outputs": [
        {
          "output_type": "execute_result",
          "data": {
            "text/plain": [
              "array([ 0.12335139, -0.06653703,  0.8925361 ,  0.66343587,  0.9516274 ])"
            ]
          },
          "metadata": {},
          "execution_count": 546
        }
      ]
    },
    {
      "cell_type": "code",
      "source": [
        "\n",
        "# =========================\n",
        "# 4) 적재치 → 기본 가중치\n",
        "# =========================\n",
        "if WEIGHT_FROM == \"abs\":\n",
        "    base = np.abs(loadings)\n",
        "elif WEIGHT_FROM == \"square\":\n",
        "    base = loadings**2\n",
        "elif WEIGHT_FROM == \"none\":\n",
        "  base = loadings\n",
        "\n",
        "else:\n",
        "    raise ValueError(\"WEIGHT_FROM은 'abs' 또는 'square'만 허용합니다.\")\n",
        "\n",
        "if base.sum() == 0:\n",
        "    raise ValueError(\"모든 적재치가 0으로 추정되었습니다. 데이터/표준화를 확인하세요.\")\n",
        "w0 = base / base.sum()  # 기본 가중치 (합=1)"
      ],
      "metadata": {
        "id": "zqtz9jT1_dOi"
      },
      "execution_count": 547,
      "outputs": []
    },
    {
      "cell_type": "code",
      "source": [
        "# =========================\n",
        "# 5) 평균 가중치로의 수렴(또는 캡) 조정\n",
        "# UBS는 '도시 평균 가중치'에서의 편차를 제한한다고 밝힘.\n",
        "# 단일 지역일 때는 '평균' 대용으로 '동등가중'을 사용.\n",
        "equal_w = np.ones(len(VAR_COLS)) / len(VAR_COLS)\n",
        "\n",
        "w_adj = w0.copy()\n",
        "\n",
        "# (A) shrink toward equal weights\n",
        "if SHRINK_TO_EQUAL:\n",
        "    rho = float(SHRINK_RHO)\n",
        "    rho = min(max(rho, 0.0), 1.0)\n",
        "    w_adj = equal_w + rho * (w_adj - equal_w)\n",
        "\n",
        "# (B) deviation cap around equal weights\n",
        "if CAP_DEVIATION is not None:\n",
        "    cap = float(CAP_DEVIATION)\n",
        "    low = equal_w - cap\n",
        "    high = equal_w + cap\n",
        "    w_adj = np.minimum(np.maximum(w_adj, low), high)\n",
        "    # 캡 이후 합=1로 재정규화\n",
        "    s = w_adj.sum()\n",
        "    if s <= 0:\n",
        "        raise ValueError(\"캡 적용 후 가중치 합이 비정상입니다. CAP_DEVIATION을 줄이세요.\")\n",
        "    w_adj = w_adj / s\n",
        "\n",
        "# 안전: 합=1 재정규화\n",
        "w_adj = np.maximum(w_adj, 0.0)\n",
        "w_adj = w_adj / w_adj.sum()"
      ],
      "metadata": {
        "id": "NNBB1B4J_dUS"
      },
      "execution_count": 548,
      "outputs": []
    },
    {
      "cell_type": "code",
      "source": [
        "# =========================\n",
        "# 6) 점수 산출 & 등급화\n",
        "# =========================\n",
        "# 전체 시계열에 대해 (NaN 있으면 NaN 결과)\n",
        "score = (Z.values @ w_adj)\n",
        "df_out = df[[DATE_COL]].copy()\n",
        "df_out[\"score\"] = score\n",
        "\n",
        "def classify(val):\n",
        "    if pd.isna(val):\n",
        "        return np.nan\n",
        "    if val > CUT_HIGH:\n",
        "        return \"High\"\n",
        "    elif val > CUT_ELEVATED:\n",
        "        return \"Elevated\"\n",
        "    elif val > CUT_LOW:\n",
        "        return \"Moderate\"\n",
        "    else:\n",
        "        return \"Low\"\n",
        "\n",
        "df_out[\"grade\"] = df_out[\"score\"].apply(classify)"
      ],
      "metadata": {
        "id": "1XzXtO3I_S2H"
      },
      "execution_count": 549,
      "outputs": []
    },
    {
      "cell_type": "code",
      "source": [
        "\n",
        "# =========================\n",
        "# 7) 결과 표/그림/파일 저장\n",
        "# =========================\n",
        "weights_df = pd.DataFrame({\n",
        "    \"variable\": VAR_COLS,\n",
        "    \"loading\": loadings,\n",
        "    \"weight_raw\": w0,\n",
        "    \"weight_final\": w_adj\n",
        "})\n",
        "\n",
        "# 저장\n",
        "with pd.ExcelWriter(OUT_XLSX) as writer:\n",
        "    weights_df.to_excel(writer, sheet_name=\"weights\", index=False)\n",
        "    df_out.to_excel(writer, sheet_name=\"scores\", index=False)\n",
        "\n",
        "df_out.to_csv(OUT_CSV, index=False, encoding=\"utf-8-sig\")\n",
        "\n",
        "# 간단 플롯\n",
        "plt.figure(figsize=(10,4))\n",
        "plt.plot(df_out[DATE_COL], df_out[\"score\"], lw=1.2)\n",
        "plt.axhline(CUT_LOW,      ls=\"--\")\n",
        "plt.axhline(CUT_ELEVATED, ls=\"--\")\n",
        "plt.axhline(CUT_HIGH,     ls=\"--\")\n",
        "plt.title(\"UBS-style Bubble Risk Score (Single City)\")\n",
        "plt.xlabel(\"Date\")\n",
        "plt.ylabel(\"Score\")\n",
        "plt.tight_layout()\n",
        "plt.savefig(PLOT_PNG, dpi=150)\n",
        "plt.close()\n",
        "\n",
        "# 콘솔 요약 출력\n",
        "print(\"=== Factor Loadings & Weights ===\")\n",
        "print(weights_df.round(4))\n",
        "print()\n",
        "print(\"Latest score/grade:\",\n",
        "      df_out.dropna(subset=[\"score\"]).iloc[-1][[\"score\",\"grade\"]].to_dict())\n",
        "print(f\"\\nSaved files: {OUT_XLSX}, {OUT_CSV}, {PLOT_PNG}\")"
      ],
      "metadata": {
        "colab": {
          "base_uri": "https://localhost:8080/"
        },
        "id": "rI72IjDq_TMN",
        "outputId": "6417edca-3390-4970-f26f-a7f5ca6be008"
      },
      "execution_count": 550,
      "outputs": [
        {
          "output_type": "stream",
          "name": "stdout",
          "text": [
            "=== Factor Loadings & Weights ===\n",
            "    variable  loading  weight_raw  weight_final\n",
            "0       debt   0.1234      0.0481        0.1544\n",
            "1       cons  -0.0665     -0.0259        0.1322\n",
            "2        pir   0.8925      0.3480        0.2444\n",
            "3    ptorent   0.6634      0.2587        0.2176\n",
            "4  ptonation   0.9516      0.3711        0.2513\n",
            "\n",
            "Latest score/grade: {'score': 1.758389206539659, 'grade': 'High'}\n",
            "\n",
            "Saved files: ubs_replicate_output.xlsx, ubs_replicate_scores.csv, ubs_replicate_score.png\n"
          ]
        }
      ]
    },
    {
      "cell_type": "code",
      "source": [],
      "metadata": {
        "id": "YlL4TNLJ_TfT"
      },
      "execution_count": null,
      "outputs": []
    },
    {
      "cell_type": "code",
      "source": [],
      "metadata": {
        "id": "DXnrdHRGPIRH"
      },
      "execution_count": null,
      "outputs": []
    },
    {
      "cell_type": "code",
      "source": [],
      "metadata": {
        "id": "3XOGYwxlPIWG"
      },
      "execution_count": null,
      "outputs": []
    },
    {
      "cell_type": "code",
      "source": [],
      "metadata": {
        "id": "eKSSPREjPIbj"
      },
      "execution_count": null,
      "outputs": []
    },
    {
      "cell_type": "code",
      "source": [],
      "metadata": {
        "id": "sZ-5396D_Tk8"
      },
      "execution_count": null,
      "outputs": []
    }
  ],
  "metadata": {
    "colab": {
      "name": "Colab 시작하기",
      "provenance": [],
      "include_colab_link": true
    },
    "kernelspec": {
      "display_name": "Python 3",
      "name": "python3"
    }
  },
  "nbformat": 4,
  "nbformat_minor": 0
}